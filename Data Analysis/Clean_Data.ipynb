{
 "cells": [
  {
   "cell_type": "code",
   "execution_count": 1,
   "metadata": {
    "id": "BZLwYZyf9XxQ"
   },
   "outputs": [],
   "source": [
    "import pandas as pd\n"
   ]
  },
  {
   "cell_type": "code",
   "execution_count": 3,
   "metadata": {
    "colab": {
     "base_uri": "https://localhost:8080/"
    },
    "id": "e5ss0AyS9sHG",
    "outputId": "2e1c5a0a-8626-4be9-a7c1-469d6a9831f4"
   },
   "outputs": [
    {
     "name": "stderr",
     "output_type": "stream",
     "text": [
      "C:\\Users\\ajinf\\AppData\\Local\\Temp\\ipykernel_19572\\2523009931.py:1: DtypeWarning: Columns (2,3,4,6,9,12,16,17,18,19) have mixed types. Specify dtype option on import or set low_memory=False.\n",
      "  branded_food = pd.read_csv(r\"C:\\Users\\ajinf\\Documents\\DS 5110\\Project\\FoodData_Central_branded_food_csv_2024-04-18/branded_food.csv\")\n"
     ]
    },
    {
     "data": {
      "text/plain": [
       "(1958978, 20)"
      ]
     },
     "execution_count": 3,
     "metadata": {},
     "output_type": "execute_result"
    }
   ],
   "source": [
    "branded_food = pd.read_csv(r\"C:\\Users\\ajinf\\Documents\\DS 5110\\Project\\FoodData_Central_branded_food_csv_2024-04-18/branded_food.csv\")\n",
    "branded_food.shape"
   ]
  },
  {
   "cell_type": "code",
   "execution_count": 4,
   "metadata": {
    "id": "6U9ZOThIaljg"
   },
   "outputs": [],
   "source": [
    "import numpy as np\n",
    "import pandas as pd\n",
    "\n",
    "def clean_dataframe(df):\n",
    "    # Identify duplicates\n",
    "    duplicates = df[df.duplicated()]\n",
    "    num_duplicates_removed = duplicates.shape[0]\n",
    "\n",
    "    # Drop duplicates\n",
    "    df_clean = df.drop_duplicates()\n",
    "\n",
    "    # Identify columns with more than 50% missing values, excluding those with 'id' in the name\n",
    "    threshold = len(df_clean) * 0.5\n",
    "    columns_to_drop = df_clean.columns[(df_clean.isnull().sum() > threshold) & (~df_clean.columns.str.contains('id', case=False))]\n",
    "\n",
    "    # Drop columns with excessive missing values, but keep 'id' columns\n",
    "    df_clean = df_clean.drop(columns=columns_to_drop)\n",
    "\n",
    "    # Fill missing values in 'id' columns with random integers\n",
    "    id_columns = [col for col in df_clean.columns if 'id' in col.lower()]\n",
    "    for col in id_columns:\n",
    "        missing_indices = df_clean[col].isnull()\n",
    "        random_values = np.random.randint(1000, 9999, size=missing_indices.sum())\n",
    "        df_clean.loc[missing_indices, col] = random_values\n",
    "\n",
    "    # Reset index\n",
    "    df_clean = df_clean.reset_index(drop=True)\n",
    "\n",
    "    # Print the results\n",
    "    print(f\"Shape before cleaning: {df.shape}\")\n",
    "    print(f\"Shape after cleaning: {df_clean.shape}\")\n",
    "    print(f\"Number of duplicates found and removed: {num_duplicates_removed}\")\n",
    "    print(f\"Columns dropped due to more than 50% missing values: {list(columns_to_drop)} (Total: {len(columns_to_drop)})\")\n",
    "    print(\"----------\")\n",
    "    missing_values = df_clean.isnull().sum()\n",
    "    missing_values = missing_values[missing_values > 0]  # Filter for columns with missing values\n",
    "\n",
    "    if not missing_values.empty:\n",
    "        print(\"Columns with missing values and their counts:\")\n",
    "        print(missing_values)\n",
    "    else:\n",
    "        print(\"No missing values found in the cleaned DataFrame.\")\n",
    "\n",
    "    return df_clean\n"
   ]
  },
  {
   "cell_type": "code",
   "execution_count": 7,
   "metadata": {
    "colab": {
     "base_uri": "https://localhost:8080/"
    },
    "id": "WwDqja0gbK0V",
    "outputId": "af045736-773d-4446-8ae8-2a0357064b50"
   },
   "outputs": [
    {
     "name": "stdout",
     "output_type": "stream",
     "text": [
      "Shape before cleaning: (1958978, 20)\n",
      "Shape after cleaning: (1958978, 12)\n",
      "Number of duplicates found and removed: 0\n",
      "Columns dropped due to more than 50% missing values: ['subbrand_name', 'not_a_significant_source_of', 'household_serving_fulltext', 'package_weight', 'discontinued_date', 'preparation_state_code', 'trade_channel', 'short_description'] (Total: 8)\n",
      "----------\n",
      "Columns with missing values and their counts:\n",
      "brand_owner               17238\n",
      "brand_name               546806\n",
      "ingredients                5376\n",
      "serving_size              10753\n",
      "serving_size_unit         18993\n",
      "branded_food_category     10625\n",
      "modified_date                20\n",
      "dtype: int64\n"
     ]
    }
   ],
   "source": [
    "branded_food_cleaned = clean_dataframe(branded_food)"
   ]
  },
  {
   "cell_type": "code",
   "execution_count": 9,
   "metadata": {
    "colab": {
     "base_uri": "https://localhost:8080/"
    },
    "id": "3T0cLixaC9bu",
    "outputId": "ef43d0bd-e0aa-4a5b-8620-167768af12e4"
   },
   "outputs": [
    {
     "name": "stdout",
     "output_type": "stream",
     "text": [
      "Remaining missing values after imputation:\n",
      "fdc_id                   0\n",
      "brand_owner              0\n",
      "brand_name               0\n",
      "gtin_upc                 0\n",
      "ingredients              0\n",
      "serving_size             0\n",
      "serving_size_unit        0\n",
      "branded_food_category    0\n",
      "data_source              0\n",
      "modified_date            0\n",
      "available_date           0\n",
      "market_country           0\n",
      "dtype: int64\n"
     ]
    }
   ],
   "source": [
    "branded_food_cleaned['brand_owner'] = branded_food_cleaned['brand_owner'].fillna('Unknown')\n",
    "branded_food_cleaned['brand_name'] = branded_food_cleaned['brand_name'].fillna('Unknown')\n",
    "branded_food_cleaned['ingredients'] = branded_food_cleaned['ingredients'].fillna('Unknown')\n",
    "branded_food_cleaned['serving_size_unit'] = branded_food_cleaned['serving_size_unit'].fillna(\n",
    "    branded_food_cleaned['serving_size_unit'].mode()[0]\n",
    ")\n",
    "branded_food_cleaned['branded_food_category'] = branded_food_cleaned['branded_food_category'].fillna('Uncategorized')\n",
    "\n",
    "branded_food_cleaned['serving_size'] = branded_food_cleaned['serving_size'].fillna(\n",
    "    branded_food_cleaned['serving_size'].median()\n",
    ")\n",
    "\n",
    "branded_food_cleaned['modified_date'] = branded_food_cleaned['modified_date'].fillna(pd.to_datetime('now'))\n",
    "\n",
    "print(\"Remaining missing values after imputation:\")\n",
    "print(branded_food_cleaned.isna().sum())"
   ]
  },
  {
   "cell_type": "code",
   "execution_count": 11,
   "metadata": {
    "colab": {
     "base_uri": "https://localhost:8080/",
     "height": 345
    },
    "id": "EDeunAr0bVl7",
    "outputId": "e2de8c9c-cef9-492d-9beb-df8741ed9a8a"
   },
   "outputs": [
    {
     "name": "stdout",
     "output_type": "stream",
     "text": [
      "Shape before cleaning: (1958978, 3)\n",
      "Shape after cleaning: (1958978, 3)\n",
      "Number of duplicates found and removed: 0\n",
      "Columns dropped due to more than 50% missing values: [] (Total: 0)\n",
      "----------\n",
      "Columns with missing values and their counts:\n",
      "description    1\n",
      "dtype: int64\n"
     ]
    },
    {
     "data": {
      "text/html": [
       "<div>\n",
       "<style scoped>\n",
       "    .dataframe tbody tr th:only-of-type {\n",
       "        vertical-align: middle;\n",
       "    }\n",
       "\n",
       "    .dataframe tbody tr th {\n",
       "        vertical-align: top;\n",
       "    }\n",
       "\n",
       "    .dataframe thead th {\n",
       "        text-align: right;\n",
       "    }\n",
       "</style>\n",
       "<table border=\"1\" class=\"dataframe\">\n",
       "  <thead>\n",
       "    <tr style=\"text-align: right;\">\n",
       "      <th></th>\n",
       "      <th>id</th>\n",
       "      <th>description</th>\n",
       "      <th>last_updated</th>\n",
       "    </tr>\n",
       "  </thead>\n",
       "  <tbody>\n",
       "    <tr>\n",
       "      <th>0</th>\n",
       "      <td>1105904</td>\n",
       "      <td>WESSON Vegetable Oil 1 GAL</td>\n",
       "      <td>2020-11-13</td>\n",
       "    </tr>\n",
       "    <tr>\n",
       "      <th>1</th>\n",
       "      <td>1105905</td>\n",
       "      <td>SWANSON BROTH BEEF</td>\n",
       "      <td>2020-11-13</td>\n",
       "    </tr>\n",
       "    <tr>\n",
       "      <th>2</th>\n",
       "      <td>1105906</td>\n",
       "      <td>CAMPBELL'S SLOW KETTLE SOUP CLAM CHOWDER</td>\n",
       "      <td>2020-11-13</td>\n",
       "    </tr>\n",
       "    <tr>\n",
       "      <th>3</th>\n",
       "      <td>1105907</td>\n",
       "      <td>CAMPBELL'S SLOW KETTLE SOUP CHEESE BROCCOLI</td>\n",
       "      <td>2020-11-13</td>\n",
       "    </tr>\n",
       "    <tr>\n",
       "      <th>4</th>\n",
       "      <td>1105908</td>\n",
       "      <td>SWANSON BROTH CHICKEN</td>\n",
       "      <td>2020-11-13</td>\n",
       "    </tr>\n",
       "  </tbody>\n",
       "</table>\n",
       "</div>"
      ],
      "text/plain": [
       "        id                                  description last_updated\n",
       "0  1105904                   WESSON Vegetable Oil 1 GAL   2020-11-13\n",
       "1  1105905                           SWANSON BROTH BEEF   2020-11-13\n",
       "2  1105906     CAMPBELL'S SLOW KETTLE SOUP CLAM CHOWDER   2020-11-13\n",
       "3  1105907  CAMPBELL'S SLOW KETTLE SOUP CHEESE BROCCOLI   2020-11-13\n",
       "4  1105908                        SWANSON BROTH CHICKEN   2020-11-13"
      ]
     },
     "execution_count": 11,
     "metadata": {},
     "output_type": "execute_result"
    }
   ],
   "source": [
    "food_update_log_entry = pd.read_csv(r\"C:\\Users\\ajinf\\Documents\\DS 5110\\Project\\FoodData_Central_branded_food_csv_2024-04-18\\food_update_log_entry.csv\")\n",
    "food_update_log_entry_cleaned = clean_dataframe(food_update_log_entry)\n",
    "food_update_log_entry_cleaned.head()"
   ]
  },
  {
   "cell_type": "code",
   "execution_count": 12,
   "metadata": {
    "colab": {
     "base_uri": "https://localhost:8080/",
     "height": 178
    },
    "id": "jFZyvOBghXER",
    "outputId": "9c717b70-ff67-4d7c-9b72-1c3d95ab9820"
   },
   "outputs": [
    {
     "data": {
      "text/plain": [
       "id              0\n",
       "description     0\n",
       "last_updated    0\n",
       "dtype: int64"
      ]
     },
     "execution_count": 12,
     "metadata": {},
     "output_type": "execute_result"
    }
   ],
   "source": [
    "food_update_log_entry_cleaned['description'] = food_update_log_entry_cleaned['description'].fillna('Unknown')\n",
    "food_update_log_entry_cleaned.isna().sum()"
   ]
  },
  {
   "cell_type": "code",
   "execution_count": 15,
   "metadata": {
    "colab": {
     "base_uri": "https://localhost:8080/",
     "height": 310
    },
    "id": "vRpO-QW8chcn",
    "outputId": "242cc563-1058-4abc-d484-26d7db44cb85"
   },
   "outputs": [
    {
     "name": "stdout",
     "output_type": "stream",
     "text": [
      "Shape before cleaning: (5, 3)\n",
      "Shape after cleaning: (5, 3)\n",
      "Number of duplicates found and removed: 0\n",
      "Columns dropped due to more than 50% missing values: [] (Total: 0)\n",
      "----------\n",
      "No missing values found in the cleaned DataFrame.\n"
     ]
    },
    {
     "data": {
      "text/html": [
       "<div>\n",
       "<style scoped>\n",
       "    .dataframe tbody tr th:only-of-type {\n",
       "        vertical-align: middle;\n",
       "    }\n",
       "\n",
       "    .dataframe tbody tr th {\n",
       "        vertical-align: top;\n",
       "    }\n",
       "\n",
       "    .dataframe thead th {\n",
       "        text-align: right;\n",
       "    }\n",
       "</style>\n",
       "<table border=\"1\" class=\"dataframe\">\n",
       "  <thead>\n",
       "    <tr style=\"text-align: right;\">\n",
       "      <th></th>\n",
       "      <th>id</th>\n",
       "      <th>name</th>\n",
       "      <th>description</th>\n",
       "    </tr>\n",
       "  </thead>\n",
       "  <tbody>\n",
       "    <tr>\n",
       "      <th>0</th>\n",
       "      <td>998</td>\n",
       "      <td>Update Log</td>\n",
       "      <td>Changes that were made to this food</td>\n",
       "    </tr>\n",
       "    <tr>\n",
       "      <th>1</th>\n",
       "      <td>999</td>\n",
       "      <td>Attribute</td>\n",
       "      <td>Generic attributes</td>\n",
       "    </tr>\n",
       "    <tr>\n",
       "      <th>2</th>\n",
       "      <td>1000</td>\n",
       "      <td>Common Name</td>\n",
       "      <td>Common names associated with a food.</td>\n",
       "    </tr>\n",
       "    <tr>\n",
       "      <th>3</th>\n",
       "      <td>1001</td>\n",
       "      <td>Additional Description</td>\n",
       "      <td>Additional descriptions for the food.</td>\n",
       "    </tr>\n",
       "    <tr>\n",
       "      <th>4</th>\n",
       "      <td>1002</td>\n",
       "      <td>Adjustments</td>\n",
       "      <td>Adjustments made to foods, including moisture ...</td>\n",
       "    </tr>\n",
       "  </tbody>\n",
       "</table>\n",
       "</div>"
      ],
      "text/plain": [
       "     id                    name  \\\n",
       "0   998              Update Log   \n",
       "1   999               Attribute   \n",
       "2  1000             Common Name   \n",
       "3  1001  Additional Description   \n",
       "4  1002             Adjustments   \n",
       "\n",
       "                                         description  \n",
       "0                Changes that were made to this food  \n",
       "1                                 Generic attributes  \n",
       "2               Common names associated with a food.  \n",
       "3              Additional descriptions for the food.  \n",
       "4  Adjustments made to foods, including moisture ...  "
      ]
     },
     "execution_count": 15,
     "metadata": {},
     "output_type": "execute_result"
    }
   ],
   "source": [
    "food_attribute_type = pd.read_csv(r\"C:\\Users\\ajinf\\Documents\\DS 5110\\Project\\FoodData_Central_branded_food_csv_2024-04-18\\food_attribute_type.csv\")\n",
    "food_attribute_type_cleaned = clean_dataframe(food_attribute_type)\n",
    "food_attribute_type_cleaned.head()"
   ]
  },
  {
   "cell_type": "code",
   "execution_count": 17,
   "metadata": {
    "colab": {
     "base_uri": "https://localhost:8080/",
     "height": 345
    },
    "id": "9dCb-zxPc734",
    "outputId": "69669fd6-8b90-45f0-8fc4-11de6c778cc5"
   },
   "outputs": [
    {
     "name": "stdout",
     "output_type": "stream",
     "text": [
      "Shape before cleaning: (2377616, 6)\n",
      "Shape after cleaning: (2377616, 5)\n",
      "Number of duplicates found and removed: 0\n",
      "Columns dropped due to more than 50% missing values: ['seq_num'] (Total: 1)\n",
      "----------\n",
      "Columns with missing values and their counts:\n",
      "name    9487\n",
      "dtype: int64\n"
     ]
    },
    {
     "data": {
      "text/html": [
       "<div>\n",
       "<style scoped>\n",
       "    .dataframe tbody tr th:only-of-type {\n",
       "        vertical-align: middle;\n",
       "    }\n",
       "\n",
       "    .dataframe tbody tr th {\n",
       "        vertical-align: top;\n",
       "    }\n",
       "\n",
       "    .dataframe thead th {\n",
       "        text-align: right;\n",
       "    }\n",
       "</style>\n",
       "<table border=\"1\" class=\"dataframe\">\n",
       "  <thead>\n",
       "    <tr style=\"text-align: right;\">\n",
       "      <th></th>\n",
       "      <th>id</th>\n",
       "      <th>fdc_id</th>\n",
       "      <th>food_attribute_type_id</th>\n",
       "      <th>name</th>\n",
       "      <th>value</th>\n",
       "    </tr>\n",
       "  </thead>\n",
       "  <tbody>\n",
       "    <tr>\n",
       "      <th>0</th>\n",
       "      <td>1009437</td>\n",
       "      <td>1105904</td>\n",
       "      <td>4897.0</td>\n",
       "      <td>Ingredients</td>\n",
       "      <td>3</td>\n",
       "    </tr>\n",
       "    <tr>\n",
       "      <th>1</th>\n",
       "      <td>1009439</td>\n",
       "      <td>1105905</td>\n",
       "      <td>2792.0</td>\n",
       "      <td>Ingredients</td>\n",
       "      <td>3</td>\n",
       "    </tr>\n",
       "    <tr>\n",
       "      <th>2</th>\n",
       "      <td>1009438</td>\n",
       "      <td>1105905</td>\n",
       "      <td>5941.0</td>\n",
       "      <td>Nutrient Removed</td>\n",
       "      <td>6</td>\n",
       "    </tr>\n",
       "    <tr>\n",
       "      <th>3</th>\n",
       "      <td>1009440</td>\n",
       "      <td>1105905</td>\n",
       "      <td>1441.0</td>\n",
       "      <td>Nutrient Updated</td>\n",
       "      <td>4</td>\n",
       "    </tr>\n",
       "    <tr>\n",
       "      <th>4</th>\n",
       "      <td>1009442</td>\n",
       "      <td>1105906</td>\n",
       "      <td>9466.0</td>\n",
       "      <td>Nutrient Updated</td>\n",
       "      <td>4</td>\n",
       "    </tr>\n",
       "  </tbody>\n",
       "</table>\n",
       "</div>"
      ],
      "text/plain": [
       "        id   fdc_id  food_attribute_type_id              name  value\n",
       "0  1009437  1105904                  4897.0       Ingredients      3\n",
       "1  1009439  1105905                  2792.0       Ingredients      3\n",
       "2  1009438  1105905                  5941.0  Nutrient Removed      6\n",
       "3  1009440  1105905                  1441.0  Nutrient Updated      4\n",
       "4  1009442  1105906                  9466.0  Nutrient Updated      4"
      ]
     },
     "execution_count": 17,
     "metadata": {},
     "output_type": "execute_result"
    }
   ],
   "source": [
    "food_attribute = pd.read_csv(r\"C:\\Users\\ajinf\\Documents\\DS 5110\\Project\\FoodData_Central_branded_food_csv_2024-04-18\\food_attribute.csv\")\n",
    "food_attribute_cleaned = clean_dataframe(food_attribute)\n",
    "food_attribute_cleaned.head()"
   ]
  },
  {
   "cell_type": "code",
   "execution_count": 19,
   "metadata": {
    "colab": {
     "base_uri": "https://localhost:8080/",
     "height": 209
    },
    "id": "-g5pa0nPhO6M",
    "outputId": "a7ca4f4f-fcbf-4925-8264-0107e364d0ae"
   },
   "outputs": [
    {
     "data": {
      "text/plain": [
       "id                        0\n",
       "fdc_id                    0\n",
       "food_attribute_type_id    0\n",
       "name                      0\n",
       "value                     0\n",
       "dtype: int64"
      ]
     },
     "execution_count": 19,
     "metadata": {},
     "output_type": "execute_result"
    }
   ],
   "source": [
    "food_attribute_cleaned['name'] = food_attribute_cleaned['name'].fillna('Unknown')\n",
    "food_attribute_cleaned.isna().sum()"
   ]
  },
  {
   "cell_type": "code",
   "execution_count": 21,
   "metadata": {
    "colab": {
     "base_uri": "https://localhost:8080/",
     "height": 379
    },
    "id": "vcrsKOEpdD7Q",
    "outputId": "9d9edf25-0eb7-45e2-dd20-cbf13a083eb7"
   },
   "outputs": [
    {
     "name": "stderr",
     "output_type": "stream",
     "text": [
      "C:\\Users\\ajinf\\AppData\\Local\\Temp\\ipykernel_19572\\2989601191.py:1: DtypeWarning: Columns (6) have mixed types. Specify dtype option on import or set low_memory=False.\n",
      "  food = pd.read_csv(r\"C:\\Users\\ajinf\\Documents\\DS 5110\\Project\\FoodData_Central_branded_food_csv_2024-04-18\\food.csv\")\n"
     ]
    },
    {
     "name": "stdout",
     "output_type": "stream",
     "text": [
      "Shape before cleaning: (1958978, 8)\n",
      "Shape after cleaning: (1958978, 7)\n",
      "Number of duplicates found and removed: 0\n",
      "Columns dropped due to more than 50% missing values: ['trade_channel'] (Total: 1)\n",
      "----------\n",
      "Columns with missing values and their counts:\n",
      "description    1\n",
      "dtype: int64\n"
     ]
    },
    {
     "data": {
      "text/html": [
       "<div>\n",
       "<style scoped>\n",
       "    .dataframe tbody tr th:only-of-type {\n",
       "        vertical-align: middle;\n",
       "    }\n",
       "\n",
       "    .dataframe tbody tr th {\n",
       "        vertical-align: top;\n",
       "    }\n",
       "\n",
       "    .dataframe thead th {\n",
       "        text-align: right;\n",
       "    }\n",
       "</style>\n",
       "<table border=\"1\" class=\"dataframe\">\n",
       "  <thead>\n",
       "    <tr style=\"text-align: right;\">\n",
       "      <th></th>\n",
       "      <th>fdc_id</th>\n",
       "      <th>data_type</th>\n",
       "      <th>description</th>\n",
       "      <th>food_category_id</th>\n",
       "      <th>publication_date</th>\n",
       "      <th>market_country</th>\n",
       "      <th>microbe_data</th>\n",
       "    </tr>\n",
       "  </thead>\n",
       "  <tbody>\n",
       "    <tr>\n",
       "      <th>0</th>\n",
       "      <td>1105904</td>\n",
       "      <td>branded_food</td>\n",
       "      <td>WESSON Vegetable Oil 1 GAL</td>\n",
       "      <td>7070.0</td>\n",
       "      <td>2020-11-13</td>\n",
       "      <td>United States</td>\n",
       "      <td>[{\"min_value\":null,\"uom\":null,\"microbe_method\"...</td>\n",
       "    </tr>\n",
       "    <tr>\n",
       "      <th>1</th>\n",
       "      <td>1105905</td>\n",
       "      <td>branded_food</td>\n",
       "      <td>SWANSON BROTH BEEF</td>\n",
       "      <td>9442.0</td>\n",
       "      <td>2020-11-13</td>\n",
       "      <td>United States</td>\n",
       "      <td>[{\"min_value\":null,\"uom\":null,\"microbe_method\"...</td>\n",
       "    </tr>\n",
       "    <tr>\n",
       "      <th>2</th>\n",
       "      <td>1105906</td>\n",
       "      <td>branded_food</td>\n",
       "      <td>CAMPBELL'S SLOW KETTLE SOUP CLAM CHOWDER</td>\n",
       "      <td>8412.0</td>\n",
       "      <td>2020-11-13</td>\n",
       "      <td>United States</td>\n",
       "      <td>[{\"min_value\":null,\"uom\":null,\"microbe_method\"...</td>\n",
       "    </tr>\n",
       "    <tr>\n",
       "      <th>3</th>\n",
       "      <td>1105907</td>\n",
       "      <td>branded_food</td>\n",
       "      <td>CAMPBELL'S SLOW KETTLE SOUP CHEESE BROCCOLI</td>\n",
       "      <td>3419.0</td>\n",
       "      <td>2020-11-13</td>\n",
       "      <td>United States</td>\n",
       "      <td>[{\"min_value\":null,\"uom\":null,\"microbe_method\"...</td>\n",
       "    </tr>\n",
       "    <tr>\n",
       "      <th>4</th>\n",
       "      <td>1105908</td>\n",
       "      <td>branded_food</td>\n",
       "      <td>SWANSON BROTH CHICKEN</td>\n",
       "      <td>2113.0</td>\n",
       "      <td>2020-11-13</td>\n",
       "      <td>United States</td>\n",
       "      <td>[{\"min_value\":null,\"uom\":null,\"microbe_method\"...</td>\n",
       "    </tr>\n",
       "  </tbody>\n",
       "</table>\n",
       "</div>"
      ],
      "text/plain": [
       "    fdc_id     data_type                                  description  \\\n",
       "0  1105904  branded_food                   WESSON Vegetable Oil 1 GAL   \n",
       "1  1105905  branded_food                           SWANSON BROTH BEEF   \n",
       "2  1105906  branded_food     CAMPBELL'S SLOW KETTLE SOUP CLAM CHOWDER   \n",
       "3  1105907  branded_food  CAMPBELL'S SLOW KETTLE SOUP CHEESE BROCCOLI   \n",
       "4  1105908  branded_food                        SWANSON BROTH CHICKEN   \n",
       "\n",
       "   food_category_id publication_date market_country  \\\n",
       "0            7070.0       2020-11-13  United States   \n",
       "1            9442.0       2020-11-13  United States   \n",
       "2            8412.0       2020-11-13  United States   \n",
       "3            3419.0       2020-11-13  United States   \n",
       "4            2113.0       2020-11-13  United States   \n",
       "\n",
       "                                        microbe_data  \n",
       "0  [{\"min_value\":null,\"uom\":null,\"microbe_method\"...  \n",
       "1  [{\"min_value\":null,\"uom\":null,\"microbe_method\"...  \n",
       "2  [{\"min_value\":null,\"uom\":null,\"microbe_method\"...  \n",
       "3  [{\"min_value\":null,\"uom\":null,\"microbe_method\"...  \n",
       "4  [{\"min_value\":null,\"uom\":null,\"microbe_method\"...  "
      ]
     },
     "execution_count": 21,
     "metadata": {},
     "output_type": "execute_result"
    }
   ],
   "source": [
    "food = pd.read_csv(r\"C:\\Users\\ajinf\\Documents\\DS 5110\\Project\\FoodData_Central_branded_food_csv_2024-04-18\\food.csv\")\n",
    "food_cleaned = clean_dataframe(food)\n",
    "food_cleaned.head()"
   ]
  },
  {
   "cell_type": "code",
   "execution_count": 22,
   "metadata": {
    "colab": {
     "base_uri": "https://localhost:8080/",
     "height": 272
    },
    "id": "xps95IFzhiUe",
    "outputId": "6e91b27c-7e65-4a4e-d1cd-85538b60133e"
   },
   "outputs": [
    {
     "data": {
      "text/plain": [
       "fdc_id              0\n",
       "data_type           0\n",
       "description         0\n",
       "food_category_id    0\n",
       "publication_date    0\n",
       "market_country      0\n",
       "microbe_data        0\n",
       "dtype: int64"
      ]
     },
     "execution_count": 22,
     "metadata": {},
     "output_type": "execute_result"
    }
   ],
   "source": [
    "food_cleaned['description'] = food_cleaned['description'].fillna('Unknown')\n",
    "food_cleaned.isna().sum()"
   ]
  },
  {
   "cell_type": "code",
   "execution_count": 25,
   "metadata": {
    "colab": {
     "base_uri": "https://localhost:8080/",
     "height": 345
    },
    "id": "GYHwsN6QdaNQ",
    "outputId": "eba791c4-3362-41fd-aebe-869d089b9dc8"
   },
   "outputs": [
    {
     "name": "stdout",
     "output_type": "stream",
     "text": [
      "Shape before cleaning: (25301180, 11)\n",
      "Shape after cleaning: (25301180, 5)\n",
      "Number of duplicates found and removed: 0\n",
      "Columns dropped due to more than 50% missing values: ['data_points', 'min', 'max', 'median', 'footnote', 'min_year_acquired'] (Total: 6)\n",
      "----------\n",
      "No missing values found in the cleaned DataFrame.\n"
     ]
    },
    {
     "data": {
      "text/html": [
       "<div>\n",
       "<style scoped>\n",
       "    .dataframe tbody tr th:only-of-type {\n",
       "        vertical-align: middle;\n",
       "    }\n",
       "\n",
       "    .dataframe tbody tr th {\n",
       "        vertical-align: top;\n",
       "    }\n",
       "\n",
       "    .dataframe thead th {\n",
       "        text-align: right;\n",
       "    }\n",
       "</style>\n",
       "<table border=\"1\" class=\"dataframe\">\n",
       "  <thead>\n",
       "    <tr style=\"text-align: right;\">\n",
       "      <th></th>\n",
       "      <th>id</th>\n",
       "      <th>fdc_id</th>\n",
       "      <th>nutrient_id</th>\n",
       "      <th>amount</th>\n",
       "      <th>derivation_id</th>\n",
       "    </tr>\n",
       "  </thead>\n",
       "  <tbody>\n",
       "    <tr>\n",
       "      <th>0</th>\n",
       "      <td>13706927</td>\n",
       "      <td>1105904</td>\n",
       "      <td>1257</td>\n",
       "      <td>0.00</td>\n",
       "      <td>71.0</td>\n",
       "    </tr>\n",
       "    <tr>\n",
       "      <th>1</th>\n",
       "      <td>13706930</td>\n",
       "      <td>1105904</td>\n",
       "      <td>1293</td>\n",
       "      <td>53.33</td>\n",
       "      <td>71.0</td>\n",
       "    </tr>\n",
       "    <tr>\n",
       "      <th>2</th>\n",
       "      <td>13706926</td>\n",
       "      <td>1105904</td>\n",
       "      <td>1253</td>\n",
       "      <td>0.00</td>\n",
       "      <td>75.0</td>\n",
       "    </tr>\n",
       "    <tr>\n",
       "      <th>3</th>\n",
       "      <td>13706921</td>\n",
       "      <td>1105904</td>\n",
       "      <td>1092</td>\n",
       "      <td>0.00</td>\n",
       "      <td>75.0</td>\n",
       "    </tr>\n",
       "    <tr>\n",
       "      <th>4</th>\n",
       "      <td>13706916</td>\n",
       "      <td>1105904</td>\n",
       "      <td>1008</td>\n",
       "      <td>867.00</td>\n",
       "      <td>71.0</td>\n",
       "    </tr>\n",
       "  </tbody>\n",
       "</table>\n",
       "</div>"
      ],
      "text/plain": [
       "         id   fdc_id  nutrient_id  amount  derivation_id\n",
       "0  13706927  1105904         1257    0.00           71.0\n",
       "1  13706930  1105904         1293   53.33           71.0\n",
       "2  13706926  1105904         1253    0.00           75.0\n",
       "3  13706921  1105904         1092    0.00           75.0\n",
       "4  13706916  1105904         1008  867.00           71.0"
      ]
     },
     "execution_count": 25,
     "metadata": {},
     "output_type": "execute_result"
    }
   ],
   "source": [
    "food_nutrient = pd.read_csv(r\"C:\\Users\\ajinf\\Documents\\DS 5110\\Project\\FoodData_Central_branded_food_csv_2024-04-18\\food_nutrient.csv\")\n",
    "food_nutrient_cleaned = clean_dataframe(food_nutrient)\n",
    "food_nutrient_cleaned.head()"
   ]
  },
  {
   "cell_type": "code",
   "execution_count": 27,
   "metadata": {
    "colab": {
     "base_uri": "https://localhost:8080/",
     "height": 345
    },
    "id": "VWjY-Mbzdkq4",
    "outputId": "1f908b96-ad67-4706-b63f-3f62c17487d2"
   },
   "outputs": [
    {
     "name": "stdout",
     "output_type": "stream",
     "text": [
      "Shape before cleaning: (13, 7)\n",
      "Shape after cleaning: (13, 6)\n",
      "Number of duplicates found and removed: 0\n",
      "Columns dropped due to more than 50% missing values: ['max_value'] (Total: 1)\n",
      "----------\n",
      "Columns with missing values and their counts:\n",
      "uom    2\n",
      "dtype: int64\n"
     ]
    },
    {
     "data": {
      "text/html": [
       "<div>\n",
       "<style scoped>\n",
       "    .dataframe tbody tr th:only-of-type {\n",
       "        vertical-align: middle;\n",
       "    }\n",
       "\n",
       "    .dataframe tbody tr th {\n",
       "        vertical-align: top;\n",
       "    }\n",
       "\n",
       "    .dataframe thead th {\n",
       "        text-align: right;\n",
       "    }\n",
       "</style>\n",
       "<table border=\"1\" class=\"dataframe\">\n",
       "  <thead>\n",
       "    <tr style=\"text-align: right;\">\n",
       "      <th></th>\n",
       "      <th>id</th>\n",
       "      <th>foodId</th>\n",
       "      <th>method</th>\n",
       "      <th>microbe_code</th>\n",
       "      <th>min_value</th>\n",
       "      <th>uom</th>\n",
       "    </tr>\n",
       "  </thead>\n",
       "  <tbody>\n",
       "    <tr>\n",
       "      <th>0</th>\n",
       "      <td>1</td>\n",
       "      <td>2331974</td>\n",
       "      <td>AEROBIC_PLATE_COUNT</td>\n",
       "      <td>LACTICASEIBACILLUS_PARACASEI</td>\n",
       "      <td>10000000</td>\n",
       "      <td>NaN</td>\n",
       "    </tr>\n",
       "    <tr>\n",
       "      <th>1</th>\n",
       "      <td>2</td>\n",
       "      <td>2332523</td>\n",
       "      <td>AEROBIC_PLATE_COUNT</td>\n",
       "      <td>LACTICASEIBACILLUS_PARACASEI</td>\n",
       "      <td>10000000</td>\n",
       "      <td>NaN</td>\n",
       "    </tr>\n",
       "    <tr>\n",
       "      <th>2</th>\n",
       "      <td>3</td>\n",
       "      <td>2336972</td>\n",
       "      <td>AEROBIC_PLATE_COUNT</td>\n",
       "      <td>LACTICASEIBACILLUS_PARACASEI</td>\n",
       "      <td>10000000</td>\n",
       "      <td>X_CFG</td>\n",
       "    </tr>\n",
       "    <tr>\n",
       "      <th>3</th>\n",
       "      <td>4</td>\n",
       "      <td>2337521</td>\n",
       "      <td>AEROBIC_PLATE_COUNT</td>\n",
       "      <td>LACTICASEIBACILLUS_PARACASEI</td>\n",
       "      <td>10000000</td>\n",
       "      <td>X_CFG</td>\n",
       "    </tr>\n",
       "    <tr>\n",
       "      <th>4</th>\n",
       "      <td>5</td>\n",
       "      <td>2364024</td>\n",
       "      <td>AEROBIC_PLATE_COUNT</td>\n",
       "      <td>LACTICASEIBACILLUS_PARACASEI</td>\n",
       "      <td>10000000</td>\n",
       "      <td>X_CFG</td>\n",
       "    </tr>\n",
       "  </tbody>\n",
       "</table>\n",
       "</div>"
      ],
      "text/plain": [
       "   id   foodId               method                  microbe_code  min_value  \\\n",
       "0   1  2331974  AEROBIC_PLATE_COUNT  LACTICASEIBACILLUS_PARACASEI   10000000   \n",
       "1   2  2332523  AEROBIC_PLATE_COUNT  LACTICASEIBACILLUS_PARACASEI   10000000   \n",
       "2   3  2336972  AEROBIC_PLATE_COUNT  LACTICASEIBACILLUS_PARACASEI   10000000   \n",
       "3   4  2337521  AEROBIC_PLATE_COUNT  LACTICASEIBACILLUS_PARACASEI   10000000   \n",
       "4   5  2364024  AEROBIC_PLATE_COUNT  LACTICASEIBACILLUS_PARACASEI   10000000   \n",
       "\n",
       "     uom  \n",
       "0    NaN  \n",
       "1    NaN  \n",
       "2  X_CFG  \n",
       "3  X_CFG  \n",
       "4  X_CFG  "
      ]
     },
     "execution_count": 27,
     "metadata": {},
     "output_type": "execute_result"
    }
   ],
   "source": [
    "microbe = pd.read_csv(r\"C:\\Users\\ajinf\\Documents\\DS 5110\\Project\\FoodData_Central_branded_food_csv_2024-04-18\\microbe.csv\")\n",
    "microbe_cleaned = clean_dataframe(microbe)\n",
    "microbe_cleaned.head()"
   ]
  },
  {
   "cell_type": "code",
   "execution_count": 29,
   "metadata": {
    "colab": {
     "base_uri": "https://localhost:8080/",
     "height": 310
    },
    "id": "RNm3yJVYdzVf",
    "outputId": "e070f587-ba3f-494d-c6dc-c39020f5c572"
   },
   "outputs": [
    {
     "name": "stdout",
     "output_type": "stream",
     "text": [
      "Shape before cleaning: (122, 2)\n",
      "Shape after cleaning: (122, 2)\n",
      "Number of duplicates found and removed: 0\n",
      "Columns dropped due to more than 50% missing values: [] (Total: 0)\n",
      "----------\n",
      "No missing values found in the cleaned DataFrame.\n"
     ]
    },
    {
     "data": {
      "text/html": [
       "<div>\n",
       "<style scoped>\n",
       "    .dataframe tbody tr th:only-of-type {\n",
       "        vertical-align: middle;\n",
       "    }\n",
       "\n",
       "    .dataframe tbody tr th {\n",
       "        vertical-align: top;\n",
       "    }\n",
       "\n",
       "    .dataframe thead th {\n",
       "        text-align: right;\n",
       "    }\n",
       "</style>\n",
       "<table border=\"1\" class=\"dataframe\">\n",
       "  <thead>\n",
       "    <tr style=\"text-align: right;\">\n",
       "      <th></th>\n",
       "      <th>id</th>\n",
       "      <th>name</th>\n",
       "    </tr>\n",
       "  </thead>\n",
       "  <tbody>\n",
       "    <tr>\n",
       "      <th>0</th>\n",
       "      <td>1000</td>\n",
       "      <td>cup</td>\n",
       "    </tr>\n",
       "    <tr>\n",
       "      <th>1</th>\n",
       "      <td>1001</td>\n",
       "      <td>tablespoon</td>\n",
       "    </tr>\n",
       "    <tr>\n",
       "      <th>2</th>\n",
       "      <td>1002</td>\n",
       "      <td>teaspoon</td>\n",
       "    </tr>\n",
       "    <tr>\n",
       "      <th>3</th>\n",
       "      <td>1003</td>\n",
       "      <td>liter</td>\n",
       "    </tr>\n",
       "    <tr>\n",
       "      <th>4</th>\n",
       "      <td>1004</td>\n",
       "      <td>milliliter</td>\n",
       "    </tr>\n",
       "  </tbody>\n",
       "</table>\n",
       "</div>"
      ],
      "text/plain": [
       "     id        name\n",
       "0  1000         cup\n",
       "1  1001  tablespoon\n",
       "2  1002    teaspoon\n",
       "3  1003       liter\n",
       "4  1004  milliliter"
      ]
     },
     "execution_count": 29,
     "metadata": {},
     "output_type": "execute_result"
    }
   ],
   "source": [
    "measure_unit = pd.read_csv(r\"C:\\Users\\ajinf\\Documents\\DS 5110\\Project\\FoodData_Central_branded_food_csv_2024-04-18\\measure_unit.csv\")\n",
    "measure_unit_cleaned = clean_dataframe(measure_unit)\n",
    "measure_unit_cleaned.head()"
   ]
  },
  {
   "cell_type": "code",
   "execution_count": 31,
   "metadata": {
    "colab": {
     "base_uri": "https://localhost:8080/",
     "height": 362
    },
    "id": "86LhajBvd8EF",
    "outputId": "1d8160c8-a38a-4771-974a-efae608c0ce5"
   },
   "outputs": [
    {
     "name": "stdout",
     "output_type": "stream",
     "text": [
      "Shape before cleaning: (477, 5)\n",
      "Shape after cleaning: (477, 5)\n",
      "Number of duplicates found and removed: 0\n",
      "Columns dropped due to more than 50% missing values: [] (Total: 0)\n",
      "----------\n",
      "Columns with missing values and their counts:\n",
      "nutrient_nbr    12\n",
      "rank            11\n",
      "dtype: int64\n"
     ]
    },
    {
     "data": {
      "text/html": [
       "<div>\n",
       "<style scoped>\n",
       "    .dataframe tbody tr th:only-of-type {\n",
       "        vertical-align: middle;\n",
       "    }\n",
       "\n",
       "    .dataframe tbody tr th {\n",
       "        vertical-align: top;\n",
       "    }\n",
       "\n",
       "    .dataframe thead th {\n",
       "        text-align: right;\n",
       "    }\n",
       "</style>\n",
       "<table border=\"1\" class=\"dataframe\">\n",
       "  <thead>\n",
       "    <tr style=\"text-align: right;\">\n",
       "      <th></th>\n",
       "      <th>id</th>\n",
       "      <th>name</th>\n",
       "      <th>unit_name</th>\n",
       "      <th>nutrient_nbr</th>\n",
       "      <th>rank</th>\n",
       "    </tr>\n",
       "  </thead>\n",
       "  <tbody>\n",
       "    <tr>\n",
       "      <th>0</th>\n",
       "      <td>2047</td>\n",
       "      <td>Energy (Atwater General Factors)</td>\n",
       "      <td>KCAL</td>\n",
       "      <td>957.0</td>\n",
       "      <td>280.0</td>\n",
       "    </tr>\n",
       "    <tr>\n",
       "      <th>1</th>\n",
       "      <td>2048</td>\n",
       "      <td>Energy (Atwater Specific Factors)</td>\n",
       "      <td>KCAL</td>\n",
       "      <td>958.0</td>\n",
       "      <td>290.0</td>\n",
       "    </tr>\n",
       "    <tr>\n",
       "      <th>2</th>\n",
       "      <td>1001</td>\n",
       "      <td>Solids</td>\n",
       "      <td>G</td>\n",
       "      <td>201.0</td>\n",
       "      <td>200.0</td>\n",
       "    </tr>\n",
       "    <tr>\n",
       "      <th>3</th>\n",
       "      <td>1002</td>\n",
       "      <td>Nitrogen</td>\n",
       "      <td>G</td>\n",
       "      <td>202.0</td>\n",
       "      <td>500.0</td>\n",
       "    </tr>\n",
       "    <tr>\n",
       "      <th>4</th>\n",
       "      <td>1003</td>\n",
       "      <td>Protein</td>\n",
       "      <td>G</td>\n",
       "      <td>203.0</td>\n",
       "      <td>600.0</td>\n",
       "    </tr>\n",
       "  </tbody>\n",
       "</table>\n",
       "</div>"
      ],
      "text/plain": [
       "     id                               name unit_name  nutrient_nbr   rank\n",
       "0  2047   Energy (Atwater General Factors)      KCAL         957.0  280.0\n",
       "1  2048  Energy (Atwater Specific Factors)      KCAL         958.0  290.0\n",
       "2  1001                             Solids         G         201.0  200.0\n",
       "3  1002                           Nitrogen         G         202.0  500.0\n",
       "4  1003                            Protein         G         203.0  600.0"
      ]
     },
     "execution_count": 31,
     "metadata": {},
     "output_type": "execute_result"
    }
   ],
   "source": [
    "nutrient = pd.read_csv(r\"C:\\Users\\ajinf\\Documents\\DS 5110\\Project\\FoodData_Central_branded_food_csv_2024-04-18\\nutrient.csv\")\n",
    "nutrient_cleaned = clean_dataframe(nutrient)\n",
    "nutrient_cleaned.head()"
   ]
  },
  {
   "cell_type": "code",
   "execution_count": 33,
   "metadata": {
    "colab": {
     "base_uri": "https://localhost:8080/",
     "height": 241
    },
    "id": "M0QxXg_kjQ-q",
    "outputId": "f74c6bfe-10a0-4f61-c687-0f6b2e3d4620"
   },
   "outputs": [
    {
     "data": {
      "text/plain": [
       "id              0\n",
       "name            0\n",
       "unit_name       0\n",
       "nutrient_nbr    0\n",
       "rank            0\n",
       "dtype: int64"
      ]
     },
     "execution_count": 33,
     "metadata": {},
     "output_type": "execute_result"
    }
   ],
   "source": [
    "nutrient_cleaned['nutrient_nbr'] = nutrient_cleaned['nutrient_nbr'].fillna(nutrient_cleaned['nutrient_nbr'].mode()[0])\n",
    "nutrient_cleaned['rank'] = nutrient_cleaned['rank'].fillna(nutrient_cleaned['rank'].mean())\n",
    "nutrient_cleaned.isna().sum()"
   ]
  },
  {
   "cell_type": "code",
   "execution_count": 35,
   "metadata": {
    "colab": {
     "base_uri": "https://localhost:8080/",
     "height": 310
    },
    "id": "Ib8ZxTBceFDl",
    "outputId": "cd8ba60e-8c06-4a3e-d7ca-be9eb6858da3"
   },
   "outputs": [
    {
     "name": "stdout",
     "output_type": "stream",
     "text": [
      "Shape before cleaning: (730, 3)\n",
      "Shape after cleaning: (730, 3)\n",
      "Number of duplicates found and removed: 0\n",
      "Columns dropped due to more than 50% missing values: [] (Total: 0)\n",
      "----------\n",
      "No missing values found in the cleaned DataFrame.\n"
     ]
    },
    {
     "data": {
      "text/html": [
       "<div>\n",
       "<style scoped>\n",
       "    .dataframe tbody tr th:only-of-type {\n",
       "        vertical-align: middle;\n",
       "    }\n",
       "\n",
       "    .dataframe tbody tr th {\n",
       "        vertical-align: top;\n",
       "    }\n",
       "\n",
       "    .dataframe thead th {\n",
       "        text-align: right;\n",
       "    }\n",
       "</style>\n",
       "<table border=\"1\" class=\"dataframe\">\n",
       "  <thead>\n",
       "    <tr style=\"text-align: right;\">\n",
       "      <th></th>\n",
       "      <th>id</th>\n",
       "      <th>name</th>\n",
       "      <th>nutrient_id</th>\n",
       "    </tr>\n",
       "  </thead>\n",
       "  <tbody>\n",
       "    <tr>\n",
       "      <th>0</th>\n",
       "      <td>1000</td>\n",
       "      <td>NITROGEN-DUMAS METHO</td>\n",
       "      <td>1002</td>\n",
       "    </tr>\n",
       "    <tr>\n",
       "      <th>1</th>\n",
       "      <td>1001</td>\n",
       "      <td>Nitrogen</td>\n",
       "      <td>1002</td>\n",
       "    </tr>\n",
       "    <tr>\n",
       "      <th>2</th>\n",
       "      <td>1002</td>\n",
       "      <td>NITROGEN-DUMAS METHOD</td>\n",
       "      <td>1002</td>\n",
       "    </tr>\n",
       "    <tr>\n",
       "      <th>3</th>\n",
       "      <td>1003</td>\n",
       "      <td>Nitrogen - Kjeldahl</td>\n",
       "      <td>1002</td>\n",
       "    </tr>\n",
       "    <tr>\n",
       "      <th>4</th>\n",
       "      <td>1004</td>\n",
       "      <td>Protein</td>\n",
       "      <td>1003</td>\n",
       "    </tr>\n",
       "  </tbody>\n",
       "</table>\n",
       "</div>"
      ],
      "text/plain": [
       "     id                   name  nutrient_id\n",
       "0  1000   NITROGEN-DUMAS METHO         1002\n",
       "1  1001               Nitrogen         1002\n",
       "2  1002  NITROGEN-DUMAS METHOD         1002\n",
       "3  1003    Nitrogen - Kjeldahl         1002\n",
       "4  1004                Protein         1003"
      ]
     },
     "execution_count": 35,
     "metadata": {},
     "output_type": "execute_result"
    }
   ],
   "source": [
    "nutrient_incoming_name = pd.read_csv(r\"C:\\Users\\ajinf\\Documents\\DS 5110\\Project\\FoodData_Central_branded_food_csv_2024-04-18\\nutrient_incoming_name.csv\")\n",
    "nutrient_incoming_name_cleaned = clean_dataframe(nutrient_incoming_name)\n",
    "nutrient_incoming_name_cleaned.head()"
   ]
  },
  {
   "cell_type": "code",
   "execution_count": 49,
   "metadata": {
    "id": "5cJedaNOeNMB"
   },
   "outputs": [],
   "source": [
    "import os\n",
    "def save_dataframes_to_csv(dataframes, folder_path):\n",
    "    os.makedirs(folder_path, exist_ok=True)\n",
    "\n",
    "    for df_name, df in dataframes.items():\n",
    "        file_path = os.path.join(folder_path, f\"{df_name}.csv\")\n",
    "\n",
    "        df.to_csv(file_path, index=False)\n",
    "        print(f\"Saved {df_name} to {file_path}\")"
   ]
  },
  {
   "cell_type": "code",
   "execution_count": 51,
   "metadata": {
    "colab": {
     "base_uri": "https://localhost:8080/"
    },
    "id": "EKT5pd1ukXaM",
    "outputId": "d6278bc5-e5ba-403e-e236-5be744b21d1f"
   },
   "outputs": [],
   "source": [
    "dataframes = {\n",
    "    'branded_food': branded_food_cleaned,\n",
    "    'nutrient_incoming_name':nutrient_incoming_name_cleaned,\n",
    "    'nutrient':nutrient_cleaned,\n",
    "    'microbe':microbe_cleaned,\n",
    "    'food_nutrient':food_nutrient_cleaned,\n",
    "    'food':food_cleaned,\n",
    "    'food_attribute':food_attribute_cleaned,\n",
    "    'food_attribute_type':food_attribute_type_cleaned,\n",
    "    'food_update_log_entry':food_update_log_entry_cleaned,\n",
    "    'measure_unit':measure_unit_cleaned\n",
    "}"
   ]
  },
  {
   "cell_type": "code",
   "execution_count": 63,
   "metadata": {},
   "outputs": [
    {
     "name": "stdout",
     "output_type": "stream",
     "text": [
      "Data inserted successfully.\n"
     ]
    }
   ],
   "source": [
    "import pandas as pd\n",
    "import psycopg2\n",
    "\n",
    "# Remove the specified columns from the DataFrame\n",
    "df = branded_food_cleaned\n",
    "\n",
    "# Convert any necessary columns, e.g., date columns, if required\n",
    "df['modified_date'] = pd.to_datetime(df['modified_date'], errors='coerce').dt.strftime('%Y-%m-%d')\n",
    "df['available_date'] = pd.to_datetime(df['available_date'], errors='coerce').dt.strftime('%Y-%m-%d')\n",
    "\n",
    "# Database connection details\n",
    "db_params = {\n",
    "    'dbname': 'food',\n",
    "    'user': 'postgres',\n",
    "    'password': 'postgres',\n",
    "    'host': 'localhost',  # or your database server address\n",
    "    'port': '5432'        # default PostgreSQL port\n",
    "}\n",
    "\n",
    "# Connect to PostgreSQL\n",
    "try:\n",
    "    conn = psycopg2.connect(**db_params)\n",
    "    cursor = conn.cursor()\n",
    "\n",
    "    # Iterate over each row in the DataFrame\n",
    "    for _, row in df.iterrows():\n",
    "        # Insert the row into the branded_food table\n",
    "        cursor.execute(\"\"\"\n",
    "            INSERT INTO branded_food (fdc_id, brand_owner, brand_name, gtin_upc, ingredients, \n",
    "                serving_size, serving_size_unit, branded_food_category, data_source, modified_date, \n",
    "                available_date, market_country)\n",
    "            VALUES (%s, %s, %s, %s, %s, %s, %s, %s, %s, %s, %s, %s)\n",
    "        \"\"\", (\n",
    "            row['fdc_id'],\n",
    "            row['brand_owner'] if pd.notnull(row['brand_owner']) else None,\n",
    "            row['brand_name'] if pd.notnull(row['brand_name']) else None,\n",
    "            row['gtin_upc'] if pd.notnull(row['gtin_upc']) else None,\n",
    "            row['ingredients'] if pd.notnull(row['ingredients']) else None,\n",
    "            row['serving_size'] if pd.notnull(row['serving_size']) else None,\n",
    "            row['serving_size_unit'] if pd.notnull(row['serving_size_unit']) else None,\n",
    "            row['branded_food_category'] if pd.notnull(row['branded_food_category']) else None,\n",
    "            row['data_source'] if pd.notnull(row['data_source']) else None,\n",
    "            row['modified_date'] if pd.notnull(row['modified_date']) else None,\n",
    "            row['available_date'] if pd.notnull(row['available_date']) else None,\n",
    "            row['market_country'] if pd.notnull(row['market_country']) else None\n",
    "        ))\n",
    "    \n",
    "    conn.commit()\n",
    "    print(\"Data inserted successfully.\")\n",
    "    \n",
    "except (Exception, psycopg2.DatabaseError) as error:\n",
    "    print(\"Error while inserting data:\", error)\n",
    "finally:\n",
    "    if conn is not None:\n",
    "        cursor.close()\n",
    "        conn.close()"
   ]
  },
  {
   "cell_type": "code",
   "execution_count": 45,
   "metadata": {},
   "outputs": [
    {
     "name": "stdout",
     "output_type": "stream",
     "text": [
      "Data inserted successfully\n"
     ]
    }
   ],
   "source": [
    "from psycopg2 import sql\n",
    "\n",
    "df = food_attribute_cleaned\n",
    "\n",
    "# Function to insert data into PostgreSQL\n",
    "def insert_data(df, table_name):\n",
    "    try:\n",
    "        # Connect to the PostgreSQL database\n",
    "        conn = psycopg2.connect(**db_params)\n",
    "        cursor = conn.cursor()\n",
    "\n",
    "        # Loop through each row in the DataFrame\n",
    "        for _, row in df.iterrows():\n",
    "            # Insert each row into the table\n",
    "            insert_query = sql.SQL(\n",
    "                \"INSERT INTO {table} (id, fdc_id, food_attribute_type_id, name, value) VALUES (%s, %s, %s, %s, %s)\"\n",
    "            ).format(table=sql.Identifier(table_name))\n",
    "\n",
    "            cursor.execute(insert_query, (\n",
    "                row['id'], \n",
    "                row['fdc_id'], \n",
    "                row['food_attribute_type_id'], \n",
    "                row['name'], \n",
    "                row['value']\n",
    "            ))\n",
    "\n",
    "        # Commit the transaction\n",
    "        conn.commit()\n",
    "        print(\"Data inserted successfully\")\n",
    "\n",
    "    except Exception as e:\n",
    "        print(f\"An error occurred: {e}\")\n",
    "    finally:\n",
    "        # Close the cursor and connection\n",
    "        cursor.close()\n",
    "        conn.close()\n",
    "\n",
    "# Call the function to insert data\n",
    "insert_data(df, 'food_attribute')\n"
   ]
  },
  {
   "cell_type": "code",
   "execution_count": 77,
   "metadata": {},
   "outputs": [
    {
     "name": "stdout",
     "output_type": "stream",
     "text": [
      "Data inserted successfully\n"
     ]
    }
   ],
   "source": [
    "df = food_attribute_type_cleaned\n",
    "\n",
    "# Function to insert data into PostgreSQL\n",
    "def insert_data(df, table_name):\n",
    "    try:\n",
    "        # Connect to the PostgreSQL database\n",
    "        conn = psycopg2.connect(**db_params)\n",
    "        cursor = conn.cursor()\n",
    "\n",
    "        # Loop through each row in the DataFrame\n",
    "        for _, row in df.iterrows():\n",
    "            # Insert each row into the table\n",
    "            insert_query = sql.SQL(\n",
    "                \"INSERT INTO {table} (id, name, description) VALUES (%s, %s, %s)\"\n",
    "            ).format(table=sql.Identifier(table_name))\n",
    "\n",
    "            cursor.execute(insert_query, (\n",
    "                row['id'], \n",
    "                row['name'], \n",
    "                row['description']\n",
    "            ))\n",
    "\n",
    "        # Commit the transaction\n",
    "        conn.commit()\n",
    "        print(\"Data inserted successfully\")\n",
    "\n",
    "    except Exception as e:\n",
    "        print(f\"An error occurred: {e}\")\n",
    "    finally:\n",
    "        # Close the cursor and connection\n",
    "        cursor.close()\n",
    "        conn.close()\n",
    "\n",
    "# Call the function to insert data\n",
    "insert_data(df, 'food_attribute_type')"
   ]
  },
  {
   "cell_type": "code",
   "execution_count": 59,
   "metadata": {},
   "outputs": [
    {
     "name": "stdout",
     "output_type": "stream",
     "text": [
      "Data inserted successfully\n"
     ]
    }
   ],
   "source": [
    "df = food_nutrient_cleaned\n",
    "\n",
    "# Function to insert data into PostgreSQL\n",
    "def insert_data(df, table_name):\n",
    "    try:\n",
    "        # Connect to the PostgreSQL database\n",
    "        conn = psycopg2.connect(**db_params)\n",
    "        cursor = conn.cursor()\n",
    "\n",
    "        # Loop through each row in the DataFrame\n",
    "        for _, row in df.iterrows():\n",
    "            # Insert each row into the table\n",
    "            insert_query = sql.SQL(\n",
    "                \"INSERT INTO {table} (id, fdc_id, nutrient_id, amount, derivation_id) \"\n",
    "                \"VALUES (%s, %s, %s, %s, %s)\"\n",
    "            ).format(table=sql.Identifier(table_name))\n",
    "\n",
    "            cursor.execute(insert_query, (\n",
    "                row['id'], \n",
    "                row['fdc_id'], \n",
    "                row['nutrient_id'], \n",
    "                row['amount'],\n",
    "                row['derivation_id']            ))\n",
    "\n",
    "        # Commit the transaction\n",
    "        conn.commit()\n",
    "        print(\"Data inserted successfully\")\n",
    "\n",
    "    except Exception as e:\n",
    "        print(f\"An error occurred: {e}\")\n",
    "    finally:\n",
    "        # Close the cursor and connection\n",
    "        cursor.close()\n",
    "        conn.close()\n",
    "\n",
    "# Call the function to insert data\n",
    "insert_data(df, 'food_nutrient')"
   ]
  },
  {
   "cell_type": "code",
   "execution_count": 91,
   "metadata": {},
   "outputs": [
    {
     "name": "stdout",
     "output_type": "stream",
     "text": [
      "An error occurred: duplicate key value violates unique constraint \"food_update_log_entry_pkey\"\n",
      "DETAIL:  Key (id)=(1105904) already exists.\n",
      "\n"
     ]
    }
   ],
   "source": [
    "df = food_update_log_entry_cleaned\n",
    "\n",
    "# Ensure date format is correct\n",
    "df['last_updated'] = pd.to_datetime(df['last_updated'], errors='coerce')\n",
    "\n",
    "# Function to insert data into PostgreSQL\n",
    "def insert_data(df, table_name):\n",
    "    try:\n",
    "        # Connect to the PostgreSQL database\n",
    "        conn = psycopg2.connect(**db_params)\n",
    "        cursor = conn.cursor()\n",
    "\n",
    "        # Loop through each row in the DataFrame\n",
    "        for _, row in df.iterrows():\n",
    "            # Insert each row into the table\n",
    "            insert_query = sql.SQL(\n",
    "                \"INSERT INTO {table} (id, description, last_updated) VALUES (%s, %s, %s)\"\n",
    "            ).format(table=sql.Identifier(table_name))\n",
    "\n",
    "            cursor.execute(insert_query, (\n",
    "                row['id'], \n",
    "                row['description'], \n",
    "                row['last_updated']            ))\n",
    "\n",
    "        # Commit the transaction\n",
    "        conn.commit()\n",
    "        print(\"Data inserted successfully\")\n",
    "\n",
    "    except Exception as e:\n",
    "        print(f\"An error occurred: {e}\")\n",
    "    finally:\n",
    "        # Close the cursor and connection\n",
    "        cursor.close()\n",
    "        conn.close()\n",
    "\n",
    "# Call the function to insert data\n",
    "insert_data(df, 'food_update_log_entry')"
   ]
  },
  {
   "cell_type": "code",
   "execution_count": 93,
   "metadata": {},
   "outputs": [
    {
     "name": "stdout",
     "output_type": "stream",
     "text": [
      "Data inserted successfully\n"
     ]
    }
   ],
   "source": [
    "df = measure_unit_cleaned\n",
    "\n",
    "# Function to insert data into PostgreSQL\n",
    "def insert_data(df, table_name):\n",
    "    try:\n",
    "        # Connect to the PostgreSQL database\n",
    "        conn = psycopg2.connect(**db_params)\n",
    "        cursor = conn.cursor()\n",
    "\n",
    "        # Loop through each row in the DataFrame\n",
    "        for _, row in df.iterrows():\n",
    "            # Insert each row into the table\n",
    "            insert_query = sql.SQL(\n",
    "                \"INSERT INTO {table} (id, name) VALUES (%s, %s)\"\n",
    "            ).format(table=sql.Identifier(table_name))\n",
    "\n",
    "            cursor.execute(insert_query, (\n",
    "                row['id'], \n",
    "                row['name']\n",
    "            ))\n",
    "\n",
    "        # Commit the transaction\n",
    "        conn.commit()\n",
    "        print(\"Data inserted successfully\")\n",
    "\n",
    "    except Exception as e:\n",
    "        print(f\"An error occurred: {e}\")\n",
    "    finally:\n",
    "        # Close the cursor and connection\n",
    "        cursor.close()\n",
    "        conn.close()\n",
    "\n",
    "# Call the function to insert data\n",
    "insert_data(df, 'measure_unit')\n"
   ]
  },
  {
   "cell_type": "code",
   "execution_count": 99,
   "metadata": {},
   "outputs": [
    {
     "name": "stdout",
     "output_type": "stream",
     "text": [
      "Data inserted successfully\n"
     ]
    }
   ],
   "source": [
    "df = microbe_cleaned\n",
    "\n",
    "# Function to insert data into PostgreSQL\n",
    "def insert_data(df, table_name):\n",
    "    try:\n",
    "        # Connect to the PostgreSQL database\n",
    "        conn = psycopg2.connect(**db_params)\n",
    "        cursor = conn.cursor()\n",
    "\n",
    "        # Loop through each row in the DataFrame\n",
    "        for _, row in df.iterrows():\n",
    "            # Insert each row into the table\n",
    "            insert_query = sql.SQL(\n",
    "                \"INSERT INTO {table} (id, foodId, method, microbe_code, min_value, uom) \"\n",
    "                \"VALUES (%s, %s, %s, %s, %s, %s)\"\n",
    "            ).format(table=sql.Identifier(table_name))\n",
    "\n",
    "            cursor.execute(insert_query, (\n",
    "                row['id'], \n",
    "                row['foodId'], \n",
    "                row['method'], \n",
    "                row['microbe_code'], \n",
    "                row['min_value'], \n",
    "                row['uom']\n",
    "            ))\n",
    "\n",
    "        # Commit the transaction\n",
    "        conn.commit()\n",
    "        print(\"Data inserted successfully\")\n",
    "\n",
    "    except Exception as e:\n",
    "        print(f\"An error occurred: {e}\")\n",
    "    finally:\n",
    "        # Close the cursor and connection\n",
    "        cursor.close()\n",
    "        conn.close()\n",
    "\n",
    "# Call the function to insert data\n",
    "insert_data(df, 'microbe')\n",
    "\n"
   ]
  },
  {
   "cell_type": "code",
   "execution_count": 101,
   "metadata": {},
   "outputs": [
    {
     "name": "stdout",
     "output_type": "stream",
     "text": [
      "Data inserted successfully\n"
     ]
    }
   ],
   "source": [
    "df = nutrient_cleaned\n",
    "\n",
    "# Function to insert data into PostgreSQL\n",
    "def insert_data(df, table_name):\n",
    "    try:\n",
    "        # Connect to the PostgreSQL database\n",
    "        conn = psycopg2.connect(**db_params)\n",
    "        cursor = conn.cursor()\n",
    "\n",
    "        # Loop through each row in the DataFrame\n",
    "        for _, row in df.iterrows():\n",
    "            # Insert each row into the table\n",
    "            insert_query = sql.SQL(\n",
    "                \"INSERT INTO {table} (id, name, unit_name, nutrient_nbr, nutrient_rank) \"\n",
    "                \"VALUES (%s, %s, %s, %s, %s)\"\n",
    "            ).format(table=sql.Identifier(table_name))\n",
    "\n",
    "            cursor.execute(insert_query, (\n",
    "                row['id'], \n",
    "                row['name'], \n",
    "                row['unit_name'], \n",
    "                row['nutrient_nbr'], \n",
    "                row['rank']\n",
    "            ))\n",
    "\n",
    "        # Commit the transaction\n",
    "        conn.commit()\n",
    "        print(\"Data inserted successfully\")\n",
    "\n",
    "    except Exception as e:\n",
    "        print(f\"An error occurred: {e}\")\n",
    "    finally:\n",
    "        # Close the cursor and connection\n",
    "        cursor.close()\n",
    "        conn.close()\n",
    "\n",
    "# Call the function to insert data\n",
    "insert_data(df, 'nutrient')"
   ]
  },
  {
   "cell_type": "code",
   "execution_count": 107,
   "metadata": {},
   "outputs": [
    {
     "name": "stdout",
     "output_type": "stream",
     "text": [
      "Word Counts: {'Hello': 2, 'world': 2, 'from': 1, 'MapReduce': 2, 'of': 1}\n"
     ]
    }
   ],
   "source": [
    "df = nutrient_incoming_name_cleaned\n",
    "\n",
    "# Function to insert data into PostgreSQL\n",
    "def insert_data(df, table_name):\n",
    "    try:\n",
    "        # Connect to the PostgreSQL database\n",
    "        conn = psycopg2.connect(**db_params)\n",
    "        cursor = conn.cursor()\n",
    "\n",
    "        # Loop through each row in the DataFrame\n",
    "        for _, row in df.iterrows():\n",
    "            # Insert each row into the table\n",
    "            insert_query = sql.SQL(\n",
    "                \"INSERT INTO {table} (id, name, nutrient_id) VALUES (%s, %s, %s)\"\n",
    "            ).format(table=sql.Identifier(table_name))\n",
    "\n",
    "            cursor.execute(insert_query, (\n",
    "                row['id'], \n",
    "                row['name'], \n",
    "                row['nutrient_id']\n",
    "            ))\n",
    "\n",
    "        # Commit the transaction\n",
    "        conn.commit()\n",
    "        print(\"Data inserted successfully\")\n",
    "\n",
    "    except Exception as e:\n",
    "        print(f\"An error occurred: {e}\")\n",
    "    finally:\n",
    "        # Close the cursor and connection\n",
    "        cursor.close()\n",
    "        conn.close()\n",
    "\n",
    "# Call the function to insert data\n",
    "insert_data(df, 'nutrient_incoming_name')"
   ]
  },
  {
   "cell_type": "code",
   "execution_count": 43,
   "metadata": {},
   "outputs": [
    {
     "name": "stdout",
     "output_type": "stream",
     "text": [
      "Data inserted successfully.\n"
     ]
    }
   ],
   "source": [
    "import psycopg2\n",
    "\n",
    "\n",
    "df = food_cleaned\n",
    "# Connect to PostgreSQL\n",
    "db_params = {\n",
    "    'dbname': 'food',\n",
    "    'user': 'postgres',\n",
    "    'password': 'postgres',\n",
    "    'host': 'localhost',  # or your database server address\n",
    "    'port': '5432'        # default PostgreSQL port\n",
    "}\n",
    "try:\n",
    "    conn = psycopg2.connect(**db_params)\n",
    "    cursor = conn.cursor()\n",
    "\n",
    "    # Insert each row from the DataFrame into the food table\n",
    "    for _, row in df.iterrows():\n",
    "        cursor.execute(\"\"\"\n",
    "            INSERT INTO food (fdc_id, data_type, description, food_category_id, publication_date, market_country, microbe_data)\n",
    "            VALUES (%s, %s, %s, %s, %s, %s, %s)\n",
    "        \"\"\", (\n",
    "            row['fdc_id'],\n",
    "            row['data_type'],\n",
    "            row['description'],\n",
    "            row['food_category_id'],\n",
    "            row['publication_date'],\n",
    "            row['market_country'],\n",
    "            row['microbe_data']\n",
    "        ))\n",
    "    \n",
    "    conn.commit()\n",
    "    print(\"Data inserted successfully.\")\n",
    "    \n",
    "except (Exception, psycopg2.DatabaseError) as error:\n",
    "    print(\"Error while inserting data:\", error)\n",
    "finally:\n",
    "    if conn is not None:\n",
    "        cursor.close()\n",
    "        conn.close()"
   ]
  },
  {
   "cell_type": "code",
   "execution_count": null,
   "metadata": {},
   "outputs": [],
   "source": []
  }
 ],
 "metadata": {
  "colab": {
   "provenance": []
  },
  "kernelspec": {
   "display_name": "Python 3 (ipykernel)",
   "language": "python",
   "name": "python3"
  },
  "language_info": {
   "codemirror_mode": {
    "name": "ipython",
    "version": 3
   },
   "file_extension": ".py",
   "mimetype": "text/x-python",
   "name": "python",
   "nbconvert_exporter": "python",
   "pygments_lexer": "ipython3",
   "version": "3.12.4"
  }
 },
 "nbformat": 4,
 "nbformat_minor": 4
}
